{
 "cells": [
  {
   "cell_type": "markdown",
   "metadata": {},
   "source": [
    "Titanic Machine Learning from Disaster\n",
    "\n",
    "Many people start machine learning projects from this Kaggle Competition, so do I. Although Kaggle is usually from better structured dataset, \n",
    "I still think it's a very good training platform as well as a good place to gain data science experience on EDA, feature engineering, and machine learning by learning from so many experts around the world.\n",
    "\n",
    "Classifier/Label:\n",
    "Survived. 1: Yes. 0: No\n",
    "\n",
    "Features:\n",
    "Pclass: Ticket class. 1 = 1st, 2 = 2nd, 3 = 3rd\n",
    "Name\n",
    "Sex\n",
    "Age\n",
    "SibSp: # of siblings / spouses aboard the Titanic\n",
    "Parch: # of parents / children aboard the Titanic\n",
    "Ticket: Ticket number\n",
    "Fare: Ticket price\n",
    "Cabin: Cabin number\n",
    "Embarded: Port of Embarkation. C = Cherbourg, Q = Queenstown, S = Southampton"
   ]
  },
  {
   "cell_type": "code",
   "execution_count": 1,
   "metadata": {},
   "outputs": [],
   "source": [
    "import numpy as np\n",
    "import pandas as pd\n",
    "import matplotlib.pyplot as plt\n",
    "import seaborn as sns\n",
    "from sklearn.preprocessing import StandardScaler\n",
    "%matplotlib inline\n",
    "\n",
    "df_train = pd.read_csv('./train.csv')\n",
    "df_test = pd.read_csv('./test.csv')"
   ]
  },
  {
   "cell_type": "markdown",
   "metadata": {},
   "source": [
    "Check how the data look like:"
   ]
  },
  {
   "cell_type": "code",
   "execution_count": 2,
   "metadata": {
    "scrolled": true
   },
   "outputs": [
    {
     "data": {
      "text/html": [
       "<div>\n",
       "<style scoped>\n",
       "    .dataframe tbody tr th:only-of-type {\n",
       "        vertical-align: middle;\n",
       "    }\n",
       "\n",
       "    .dataframe tbody tr th {\n",
       "        vertical-align: top;\n",
       "    }\n",
       "\n",
       "    .dataframe thead th {\n",
       "        text-align: right;\n",
       "    }\n",
       "</style>\n",
       "<table border=\"1\" class=\"dataframe\">\n",
       "  <thead>\n",
       "    <tr style=\"text-align: right;\">\n",
       "      <th></th>\n",
       "      <th>PassengerId</th>\n",
       "      <th>Survived</th>\n",
       "      <th>Pclass</th>\n",
       "      <th>Name</th>\n",
       "      <th>Sex</th>\n",
       "      <th>Age</th>\n",
       "      <th>SibSp</th>\n",
       "      <th>Parch</th>\n",
       "      <th>Ticket</th>\n",
       "      <th>Fare</th>\n",
       "      <th>Cabin</th>\n",
       "      <th>Embarked</th>\n",
       "    </tr>\n",
       "  </thead>\n",
       "  <tbody>\n",
       "    <tr>\n",
       "      <th>0</th>\n",
       "      <td>1</td>\n",
       "      <td>0</td>\n",
       "      <td>3</td>\n",
       "      <td>Braund, Mr. Owen Harris</td>\n",
       "      <td>male</td>\n",
       "      <td>22.0</td>\n",
       "      <td>1</td>\n",
       "      <td>0</td>\n",
       "      <td>A/5 21171</td>\n",
       "      <td>7.2500</td>\n",
       "      <td>NaN</td>\n",
       "      <td>S</td>\n",
       "    </tr>\n",
       "    <tr>\n",
       "      <th>1</th>\n",
       "      <td>2</td>\n",
       "      <td>1</td>\n",
       "      <td>1</td>\n",
       "      <td>Cumings, Mrs. John Bradley (Florence Briggs Th...</td>\n",
       "      <td>female</td>\n",
       "      <td>38.0</td>\n",
       "      <td>1</td>\n",
       "      <td>0</td>\n",
       "      <td>PC 17599</td>\n",
       "      <td>71.2833</td>\n",
       "      <td>C85</td>\n",
       "      <td>C</td>\n",
       "    </tr>\n",
       "    <tr>\n",
       "      <th>2</th>\n",
       "      <td>3</td>\n",
       "      <td>1</td>\n",
       "      <td>3</td>\n",
       "      <td>Heikkinen, Miss. Laina</td>\n",
       "      <td>female</td>\n",
       "      <td>26.0</td>\n",
       "      <td>0</td>\n",
       "      <td>0</td>\n",
       "      <td>STON/O2. 3101282</td>\n",
       "      <td>7.9250</td>\n",
       "      <td>NaN</td>\n",
       "      <td>S</td>\n",
       "    </tr>\n",
       "    <tr>\n",
       "      <th>3</th>\n",
       "      <td>4</td>\n",
       "      <td>1</td>\n",
       "      <td>1</td>\n",
       "      <td>Futrelle, Mrs. Jacques Heath (Lily May Peel)</td>\n",
       "      <td>female</td>\n",
       "      <td>35.0</td>\n",
       "      <td>1</td>\n",
       "      <td>0</td>\n",
       "      <td>113803</td>\n",
       "      <td>53.1000</td>\n",
       "      <td>C123</td>\n",
       "      <td>S</td>\n",
       "    </tr>\n",
       "    <tr>\n",
       "      <th>4</th>\n",
       "      <td>5</td>\n",
       "      <td>0</td>\n",
       "      <td>3</td>\n",
       "      <td>Allen, Mr. William Henry</td>\n",
       "      <td>male</td>\n",
       "      <td>35.0</td>\n",
       "      <td>0</td>\n",
       "      <td>0</td>\n",
       "      <td>373450</td>\n",
       "      <td>8.0500</td>\n",
       "      <td>NaN</td>\n",
       "      <td>S</td>\n",
       "    </tr>\n",
       "  </tbody>\n",
       "</table>\n",
       "</div>"
      ],
      "text/plain": [
       "   PassengerId  Survived  Pclass  \\\n",
       "0            1         0       3   \n",
       "1            2         1       1   \n",
       "2            3         1       3   \n",
       "3            4         1       1   \n",
       "4            5         0       3   \n",
       "\n",
       "                                                Name     Sex   Age  SibSp  \\\n",
       "0                            Braund, Mr. Owen Harris    male  22.0      1   \n",
       "1  Cumings, Mrs. John Bradley (Florence Briggs Th...  female  38.0      1   \n",
       "2                             Heikkinen, Miss. Laina  female  26.0      0   \n",
       "3       Futrelle, Mrs. Jacques Heath (Lily May Peel)  female  35.0      1   \n",
       "4                           Allen, Mr. William Henry    male  35.0      0   \n",
       "\n",
       "   Parch            Ticket     Fare Cabin Embarked  \n",
       "0      0         A/5 21171   7.2500   NaN        S  \n",
       "1      0          PC 17599  71.2833   C85        C  \n",
       "2      0  STON/O2. 3101282   7.9250   NaN        S  \n",
       "3      0            113803  53.1000  C123        S  \n",
       "4      0            373450   8.0500   NaN        S  "
      ]
     },
     "execution_count": 2,
     "metadata": {},
     "output_type": "execute_result"
    }
   ],
   "source": [
    "df_train.head()"
   ]
  },
  {
   "cell_type": "markdown",
   "metadata": {},
   "source": [
    "Remove 'PassengerId' and the label 'Survived':"
   ]
  },
  {
   "cell_type": "markdown",
   "metadata": {},
   "source": [
    "Remove 'PassengerId'"
   ]
  },
  {
   "cell_type": "code",
   "execution_count": 3,
   "metadata": {},
   "outputs": [
    {
     "data": {
      "text/html": [
       "<div>\n",
       "<style scoped>\n",
       "    .dataframe tbody tr th:only-of-type {\n",
       "        vertical-align: middle;\n",
       "    }\n",
       "\n",
       "    .dataframe tbody tr th {\n",
       "        vertical-align: top;\n",
       "    }\n",
       "\n",
       "    .dataframe thead th {\n",
       "        text-align: right;\n",
       "    }\n",
       "</style>\n",
       "<table border=\"1\" class=\"dataframe\">\n",
       "  <thead>\n",
       "    <tr style=\"text-align: right;\">\n",
       "      <th></th>\n",
       "      <th>PassengerId</th>\n",
       "      <th>Pclass</th>\n",
       "      <th>Name</th>\n",
       "      <th>Sex</th>\n",
       "      <th>Age</th>\n",
       "      <th>SibSp</th>\n",
       "      <th>Parch</th>\n",
       "      <th>Ticket</th>\n",
       "      <th>Fare</th>\n",
       "      <th>Cabin</th>\n",
       "      <th>Embarked</th>\n",
       "    </tr>\n",
       "  </thead>\n",
       "  <tbody>\n",
       "    <tr>\n",
       "      <th>0</th>\n",
       "      <td>892</td>\n",
       "      <td>3</td>\n",
       "      <td>Kelly, Mr. James</td>\n",
       "      <td>male</td>\n",
       "      <td>34.5</td>\n",
       "      <td>0</td>\n",
       "      <td>0</td>\n",
       "      <td>330911</td>\n",
       "      <td>7.8292</td>\n",
       "      <td>NaN</td>\n",
       "      <td>Q</td>\n",
       "    </tr>\n",
       "    <tr>\n",
       "      <th>1</th>\n",
       "      <td>893</td>\n",
       "      <td>3</td>\n",
       "      <td>Wilkes, Mrs. James (Ellen Needs)</td>\n",
       "      <td>female</td>\n",
       "      <td>47.0</td>\n",
       "      <td>1</td>\n",
       "      <td>0</td>\n",
       "      <td>363272</td>\n",
       "      <td>7.0000</td>\n",
       "      <td>NaN</td>\n",
       "      <td>S</td>\n",
       "    </tr>\n",
       "    <tr>\n",
       "      <th>2</th>\n",
       "      <td>894</td>\n",
       "      <td>2</td>\n",
       "      <td>Myles, Mr. Thomas Francis</td>\n",
       "      <td>male</td>\n",
       "      <td>62.0</td>\n",
       "      <td>0</td>\n",
       "      <td>0</td>\n",
       "      <td>240276</td>\n",
       "      <td>9.6875</td>\n",
       "      <td>NaN</td>\n",
       "      <td>Q</td>\n",
       "    </tr>\n",
       "    <tr>\n",
       "      <th>3</th>\n",
       "      <td>895</td>\n",
       "      <td>3</td>\n",
       "      <td>Wirz, Mr. Albert</td>\n",
       "      <td>male</td>\n",
       "      <td>27.0</td>\n",
       "      <td>0</td>\n",
       "      <td>0</td>\n",
       "      <td>315154</td>\n",
       "      <td>8.6625</td>\n",
       "      <td>NaN</td>\n",
       "      <td>S</td>\n",
       "    </tr>\n",
       "    <tr>\n",
       "      <th>4</th>\n",
       "      <td>896</td>\n",
       "      <td>3</td>\n",
       "      <td>Hirvonen, Mrs. Alexander (Helga E Lindqvist)</td>\n",
       "      <td>female</td>\n",
       "      <td>22.0</td>\n",
       "      <td>1</td>\n",
       "      <td>1</td>\n",
       "      <td>3101298</td>\n",
       "      <td>12.2875</td>\n",
       "      <td>NaN</td>\n",
       "      <td>S</td>\n",
       "    </tr>\n",
       "  </tbody>\n",
       "</table>\n",
       "</div>"
      ],
      "text/plain": [
       "   PassengerId  Pclass                                          Name     Sex  \\\n",
       "0          892       3                              Kelly, Mr. James    male   \n",
       "1          893       3              Wilkes, Mrs. James (Ellen Needs)  female   \n",
       "2          894       2                     Myles, Mr. Thomas Francis    male   \n",
       "3          895       3                              Wirz, Mr. Albert    male   \n",
       "4          896       3  Hirvonen, Mrs. Alexander (Helga E Lindqvist)  female   \n",
       "\n",
       "    Age  SibSp  Parch   Ticket     Fare Cabin Embarked  \n",
       "0  34.5      0      0   330911   7.8292   NaN        Q  \n",
       "1  47.0      1      0   363272   7.0000   NaN        S  \n",
       "2  62.0      0      0   240276   9.6875   NaN        Q  \n",
       "3  27.0      0      0   315154   8.6625   NaN        S  \n",
       "4  22.0      1      1  3101298  12.2875   NaN        S  "
      ]
     },
     "execution_count": 3,
     "metadata": {},
     "output_type": "execute_result"
    }
   ],
   "source": [
    "df_test.head()"
   ]
  },
  {
   "cell_type": "code",
   "execution_count": 4,
   "metadata": {},
   "outputs": [
    {
     "name": "stdout",
     "output_type": "stream",
     "text": [
      "<class 'pandas.core.frame.DataFrame'>\n",
      "RangeIndex: 891 entries, 0 to 890\n",
      "Data columns (total 12 columns):\n",
      "PassengerId    891 non-null int64\n",
      "Survived       891 non-null int64\n",
      "Pclass         891 non-null int64\n",
      "Name           891 non-null object\n",
      "Sex            891 non-null object\n",
      "Age            714 non-null float64\n",
      "SibSp          891 non-null int64\n",
      "Parch          891 non-null int64\n",
      "Ticket         891 non-null object\n",
      "Fare           891 non-null float64\n",
      "Cabin          204 non-null object\n",
      "Embarked       889 non-null object\n",
      "dtypes: float64(2), int64(5), object(5)\n",
      "memory usage: 83.6+ KB\n"
     ]
    }
   ],
   "source": [
    "df_train.info()"
   ]
  },
  {
   "cell_type": "markdown",
   "metadata": {},
   "source": [
    "The chart below shows the statistics of number of survivers accross different Pclass values. 1 means survived and 0 means not survived.\n",
    "We can see that the higher (better) the class is, the survival rate is higher. i.e. The survived rate is: Pclass1 > Pclass2 > Pclass3.\n",
    "It's obvious that there are high correlations between Pclass and survival rate."
   ]
  },
  {
   "cell_type": "code",
   "execution_count": 5,
   "metadata": {},
   "outputs": [
    {
     "data": {
      "text/plain": [
       "<matplotlib.axes._subplots.AxesSubplot at 0x2165611d208>"
      ]
     },
     "execution_count": 5,
     "metadata": {},
     "output_type": "execute_result"
    },
    {
     "data": {
      "image/png": "[encoded data removed]",
      "text/plain": [
       "<Figure size 432x288 with 1 Axes>"
      ]
     },
     "metadata": {
      "needs_background": "light"
     },
     "output_type": "display_data"
    }
   ],
   "source": [
    "color = ['lightcoral', 'palegreen']\n",
    "df_train.pivot_table(values = 'PassengerId', index = 'Pclass', columns = 'Survived',aggfunc = 'count')\\\n",
    ".plot(kind = 'bar', stacked = True, color = color)"
   ]
  },
  {
   "cell_type": "markdown",
   "metadata": {},
   "source": [
    "It's obvious that passengers who were in higher class = 1 has higher probability to survive. It's probably because that better priorities\n",
    "or facilities on higher class to make passengers survived."
   ]
  },
  {
   "cell_type": "markdown",
   "metadata": {},
   "source": [
    "Now compare the probabilities of survivals for female and male.\n",
    "It's also clear that female has much lower survival rate than it on male passengers! It perhaps explains that female has higher priority to be rescued than male, but I guess that it's only true for adults, not kids. Let's check the next figure."
   ]
  },
  {
   "cell_type": "code",
   "execution_count": 6,
   "metadata": {},
   "outputs": [
    {
     "data": {
      "text/plain": [
       "<matplotlib.axes._subplots.AxesSubplot at 0x2165b555828>"
      ]
     },
     "execution_count": 6,
     "metadata": {},
     "output_type": "execute_result"
    },
    {
     "data": {
      "image/png": "[encoded data removed]",
      "text/plain": [
       "<Figure size 432x288 with 1 Axes>"
      ]
     },
     "metadata": {
      "needs_background": "light"
     },
     "output_type": "display_data"
    }
   ],
   "source": [
    "color = ['lightcoral', 'palegreen']\n",
    "df_train.pivot_table(values = 'PassengerId', index = 'Sex', columns = 'Survived', aggfunc = 'count')\\\n",
    ".plot(kind= 'bar', stacked = True, color = color)"
   ]
  },
  {
   "cell_type": "markdown",
   "metadata": {},
   "source": [
    "This figure below proves my guess! i.e. There is no bias on girls and boys under age 10."
   ]
  },
  {
   "cell_type": "code",
   "execution_count": 7,
   "metadata": {},
   "outputs": [
    {
     "data": {
      "text/plain": [
       "<matplotlib.axes._subplots.AxesSubplot at 0x2165b5edb70>"
      ]
     },
     "execution_count": 7,
     "metadata": {},
     "output_type": "execute_result"
    },
    {
     "data": {
      "image/png": "[encoded data removed]",
      "text/plain": [
       "<Figure size 432x288 with 1 Axes>"
      ]
     },
     "metadata": {
      "needs_background": "light"
     },
     "output_type": "display_data"
    }
   ],
   "source": [
    "color = ['lightcoral', 'palegreen']\n",
    "df_train[df_train['Age'] < 10].pivot_table(values = 'PassengerId', index = 'Sex', columns = 'Survived', aggfunc = 'count')\\\n",
    ".plot(kind= 'bar', stacked = True, color = color)"
   ]
  },
  {
   "cell_type": "code",
   "execution_count": null,
   "metadata": {},
   "outputs": [],
   "source": []
  },
  {
   "cell_type": "code",
   "execution_count": 8,
   "metadata": {},
   "outputs": [
    {
     "data": {
      "text/plain": [
       "<matplotlib.axes._subplots.AxesSubplot at 0x2165b675470>"
      ]
     },
     "execution_count": 8,
     "metadata": {},
     "output_type": "execute_result"
    },
    {
     "data": {
      "image/png": "[encoded data removed]",
      "text/plain": [
       "<Figure size 432x288 with 1 Axes>"
      ]
     },
     "metadata": {
      "needs_background": "light"
     },
     "output_type": "display_data"
    }
   ],
   "source": [
    "color = ['lightcoral', 'palegreen']\n",
    "df_train.pivot_table(values = 'PassengerId', index = 'Pclass', columns = 'Survived', aggfunc = 'count')\\\n",
    ".plot(kind= 'bar', stacked = True, color = color)"
   ]
  },
  {
   "cell_type": "markdown",
   "metadata": {},
   "source": [
    "Now take a look for the distributions between Embarded places (i.e. Port of Embarkation from the three ports) and the survival rates."
   ]
  },
  {
   "cell_type": "code",
   "execution_count": 9,
   "metadata": {},
   "outputs": [
    {
     "data": {
      "text/plain": [
       "<matplotlib.axes._subplots.AxesSubplot at 0x2165b6e1860>"
      ]
     },
     "execution_count": 9,
     "metadata": {},
     "output_type": "execute_result"
    },
    {
     "data": {
      "image/png": "[encoded data removed]",
      "text/plain": [
       "<Figure size 432x288 with 1 Axes>"
      ]
     },
     "metadata": {
      "needs_background": "light"
     },
     "output_type": "display_data"
    }
   ],
   "source": [
    "color = ['lightcoral', 'palegreen']\n",
    "df_train.pivot_table(values = 'PassengerId', index = 'Embarked', columns = 'Survived', aggfunc = 'count')\\\n",
    ".plot(kind= 'bar', stacked = True, color = color)"
   ]
  },
  {
   "cell_type": "markdown",
   "metadata": {},
   "source": [
    "From the chart above, it seems that passengers embarked from C (Cherbourg) have higher survival rate? Perhaps embarked place cannot explain cause and effect. The embarked places might be correlated to other features. From the chart below, the percentage of Pclass from Cherbourg is highest among the three cities. It might explain this result according to earlier observations on Pclass vs. Survival rate. "
   ]
  },
  {
   "cell_type": "code",
   "execution_count": 10,
   "metadata": {},
   "outputs": [
    {
     "data": {
      "text/plain": [
       "<matplotlib.axes._subplots.AxesSubplot at 0x2165b761b38>"
      ]
     },
     "execution_count": 10,
     "metadata": {},
     "output_type": "execute_result"
    },
    {
     "data": {
      "image/png": "[encoded data removed]",
      "text/plain": [
       "<Figure size 432x288 with 1 Axes>"
      ]
     },
     "metadata": {
      "needs_background": "light"
     },
     "output_type": "display_data"
    }
   ],
   "source": [
    "df_train.pivot_table(values = 'PassengerId', index = 'Embarked', columns = 'Pclass', aggfunc = 'count')\\\n",
    ".plot(kind= 'bar', stacked = True)"
   ]
  },
  {
   "cell_type": "markdown",
   "metadata": {},
   "source": [
    "The Kernel Density Estimate (KDE) below for Age shows that youger ages (below around 35) have higher survival rate and older ages have lower sruvival rate."
   ]
  },
  {
   "cell_type": "code",
   "execution_count": 11,
   "metadata": {},
   "outputs": [
    {
     "data": {
      "text/plain": [
       "<matplotlib.axes._subplots.AxesSubplot at 0x2165b7d2b38>"
      ]
     },
     "execution_count": 11,
     "metadata": {},
     "output_type": "execute_result"
    },
    {
     "data": {
      "image/png": "[encoded data removed]",
      "text/plain": [
       "<Figure size 432x288 with 1 Axes>"
      ]
     },
     "metadata": {
      "needs_background": "light"
     },
     "output_type": "display_data"
    }
   ],
   "source": [
    "df = df_train.dropna(inplace = False) # Dropping nan values is just for observing original data, will asign values to the missing items.\n",
    "surv = df['Survived'] == 1  \n",
    "sns.distplot(df[~surv]['Age'], label='Not Survived', hist=True, color='#e74c3c')\n",
    "sns.distplot(df[surv]['Age'], label='Survived', hist=True, color='#2ecc71')"
   ]
  },
  {
   "cell_type": "markdown",
   "metadata": {},
   "source": [
    "The KDE for Fare shows that passengers with higher fare of tickets have higher surval rate. The distribution is right skewed with high fare of ourliers."
   ]
  },
  {
   "cell_type": "code",
   "execution_count": 12,
   "metadata": {},
   "outputs": [
    {
     "data": {
      "text/plain": [
       "<matplotlib.axes._subplots.AxesSubplot at 0x2165b85dac8>"
      ]
     },
     "execution_count": 12,
     "metadata": {},
     "output_type": "execute_result"
    },
    {
     "data": {
      "image/png": "[encoded data removed]",
      "text/plain": [
       "<Figure size 432x288 with 1 Axes>"
      ]
     },
     "metadata": {
      "needs_background": "light"
     },
     "output_type": "display_data"
    }
   ],
   "source": [
    "surv = df_train['Survived'] == 1  \n",
    "sns.distplot(df_train[~surv]['Fare'], label='Not Survived', hist=True, color='#e74c3c')\n",
    "sns.distplot(df_train[surv]['Fare'], label='Survived', hist=True, color='#2ecc71')"
   ]
  },
  {
   "cell_type": "markdown",
   "metadata": {},
   "source": [
    "From the heatmap below, the Pearson's correlation value between Pclass and Fare is highest in all the features (-0.5)."
   ]
  },
  {
   "cell_type": "code",
   "execution_count": 13,
   "metadata": {},
   "outputs": [
    {
     "data": {
      "text/plain": [
       "<matplotlib.axes._subplots.AxesSubplot at 0x2165b9cc9b0>"
      ]
     },
     "execution_count": 13,
     "metadata": {},
     "output_type": "execute_result"
    },
    {
     "data": {
      "image/png": "[encoded data removed]",
      "text/plain": [
       "<Figure size 576x576 with 2 Axes>"
      ]
     },
     "metadata": {
      "needs_background": "light"
     },
     "output_type": "display_data"
    }
   ],
   "source": [
    "df = df_train.drop('PassengerId', axis = 1, inplace = False)\n",
    "f,ax = plt.subplots(figsize=(8, 8))\n",
    "sns.heatmap(df.corr(), annot=True, linewidths=.5, fmt= '.1f',ax=ax, center = 0)"
   ]
  },
  {
   "cell_type": "code",
   "execution_count": 14,
   "metadata": {},
   "outputs": [],
   "source": [
    "def concat_df(train_data, test_data):\n",
    "    # Returns a concatenated df of training and test set on axis 0\n",
    "    return pd.concat([train_data, test_data], sort=True).reset_index(drop=True)\n",
    "\n",
    "def divide_df(all_data):\n",
    "    # Returns divided dfs of training and test set\n",
    "    return all_data.loc[:890], all_data.loc[891:]    "
   ]
  },
  {
   "cell_type": "code",
   "execution_count": 15,
   "metadata": {},
   "outputs": [],
   "source": [
    "df_all = concat_df(df_train, df_test)\n",
    "# Drop PassengerId\n",
    "df_all.drop('PassengerId', axis = 1, inplace = True)"
   ]
  },
  {
   "cell_type": "code",
   "execution_count": 16,
   "metadata": {},
   "outputs": [
    {
     "name": "stdout",
     "output_type": "stream",
     "text": [
      "Missing data count on training set:  PassengerId      0\n",
      "Survived         0\n",
      "Pclass           0\n",
      "Name             0\n",
      "Sex              0\n",
      "Age            177\n",
      "SibSp            0\n",
      "Parch            0\n",
      "Ticket           0\n",
      "Fare             0\n",
      "Cabin          687\n",
      "Embarked         2\n",
      "dtype: int64\n",
      "Missing data count on test set:  PassengerId      0\n",
      "Pclass           0\n",
      "Name             0\n",
      "Sex              0\n",
      "Age             86\n",
      "SibSp            0\n",
      "Parch            0\n",
      "Ticket           0\n",
      "Fare             1\n",
      "Cabin          327\n",
      "Embarked         0\n",
      "dtype: int64\n"
     ]
    }
   ],
   "source": [
    "print('Missing data count on training set: ', df_train.isnull().sum())\n",
    "print('Missing data count on test set: ', df_test.isnull().sum())"
   ]
  },
  {
   "cell_type": "code",
   "execution_count": 17,
   "metadata": {},
   "outputs": [
    {
     "data": {
      "text/plain": [
       "Kelly, Mr. James                                                   2\n",
       "Connolly, Miss. Kate                                               2\n",
       "Gill, Mr. John William                                             1\n",
       "de Messemaeker, Mr. Guillaume Joseph                               1\n",
       "Denbury, Mr. Herbert                                               1\n",
       "Nysten, Miss. Anna Sofia                                           1\n",
       "Sincock, Miss. Maude                                               1\n",
       "Carrau, Mr. Francisco M                                            1\n",
       "Frost, Mr. Anthony Wood \"Archie\"                                   1\n",
       "Riordan, Miss. Johanna Hannah\"\"                                    1\n",
       "McCarthy, Mr. Timothy J                                            1\n",
       "Krekorian, Mr. Neshan                                              1\n",
       "Walcroft, Miss. Nellie                                             1\n",
       "Johnston, Master. William Arthur Willie\"\"                          1\n",
       "Holverson, Mrs. Alexander Oskar (Mary Aline Towner)                1\n",
       "Pavlovic, Mr. Stefo                                                1\n",
       "Widegren, Mr. Carl/Charles Peter                                   1\n",
       "Rothschild, Mr. Martin                                             1\n",
       "Frolicher-Stehli, Mrs. Maxmillian (Margaretha Emerentia Stehli)    1\n",
       "Sage, Mr. George John Jr                                           1\n",
       "Chaudanson, Miss. Victorine                                        1\n",
       "Toufik, Mr. Nakli                                                  1\n",
       "Dakic, Mr. Branko                                                  1\n",
       "Boulos, Mr. Hanna                                                  1\n",
       "Lesurer, Mr. Gustave J                                             1\n",
       "Sandstrom, Mrs. Hjalmar (Agnes Charlotta Bengtsson)                1\n",
       "Andreasson, Mr. Paul Edvin                                         1\n",
       "Brocklebank, Mr. William Alfred                                    1\n",
       "Giles, Mr. Edgar                                                   1\n",
       "Robert, Mrs. Edward Scott (Elisabeth Walton McMillan)              1\n",
       "                                                                  ..\n",
       "Moore, Mr. Clarence Bloomfield                                     1\n",
       "Cacic, Mr. Luka                                                    1\n",
       "Beane, Mrs. Edward (Ethel Clarke)                                  1\n",
       "Toomey, Miss. Ellen                                                1\n",
       "Stead, Mr. William Thomas                                          1\n",
       "Richards, Master. William Rowe                                     1\n",
       "Healy, Miss. Hanora \"Nora\"                                         1\n",
       "Kink, Miss. Maria                                                  1\n",
       "Nicola-Yarred, Master. Elias                                       1\n",
       "Doyle, Miss. Elizabeth                                             1\n",
       "Gibson, Mrs. Leonard (Pauline C Boeson)                            1\n",
       "Nesson, Mr. Israel                                                 1\n",
       "Rintamaki, Mr. Matti                                               1\n",
       "Sheerlinck, Mr. Jan Baptist                                        1\n",
       "Bissette, Miss. Amelia                                             1\n",
       "McGough, Mr. James Robert                                          1\n",
       "Douglas, Mrs. Frederick Charles (Mary Helene Baxter)               1\n",
       "Murphy, Miss. Katherine \"Kate\"                                     1\n",
       "Kenyon, Mrs. Frederick R (Marion)                                  1\n",
       "Levy, Mr. Rene Jacques                                             1\n",
       "Danbom, Mr. Ernst Gilbert                                          1\n",
       "Artagaveytia, Mr. Ramon                                            1\n",
       "Laroche, Mr. Joseph Philippe Lemercier                             1\n",
       "Dika, Mr. Mirko                                                    1\n",
       "Drapkin, Miss. Jennie                                              1\n",
       "Phillips, Mr. Escott Robert                                        1\n",
       "Kantor, Mrs. Sinai (Miriam Sternin)                                1\n",
       "Thomas, Mr. John                                                   1\n",
       "Hold, Mrs. Stephen (Annie Margaret Hill)                           1\n",
       "Van Impe, Miss. Catharina                                          1\n",
       "Name: Name, Length: 1307, dtype: int64"
      ]
     },
     "execution_count": 17,
     "metadata": {},
     "output_type": "execute_result"
    }
   ],
   "source": [
    "df_all['Name'].value_counts()"
   ]
  },
  {
   "cell_type": "code",
   "execution_count": 18,
   "metadata": {},
   "outputs": [
    {
     "data": {
      "text/plain": [
       "Mr                          757\n",
       "Miss/Mrs/Ms                 464\n",
       "Master                       61\n",
       "Dr/Military/Noble/Clergy     26\n",
       "Countess                      1\n",
       "Name: Title, dtype: int64"
      ]
     },
     "execution_count": 18,
     "metadata": {},
     "output_type": "execute_result"
    }
   ],
   "source": [
    "df_all['Title'] = df_all['Name'].str.extract('([A-Za-z]+)\\.', expand = False)\n",
    "df_all[df_all['Title'].isnull()]\n",
    "df_all['Title'] = df_all['Title'].replace(['Miss', 'Mrs','Ms', 'Mlle', 'Lady', 'Mme', 'the Countess', 'Dona'], 'Miss/Mrs/Ms')\n",
    "df_all['Title'] = df_all['Title'].replace(['Dr', 'Col', 'Major', 'Jonkheer', 'Capt', 'Sir', 'Don', 'Rev'], 'Dr/Military/Noble/Clergy')\n",
    "df_all['Title'].value_counts()"
   ]
  },
  {
   "cell_type": "code",
   "execution_count": 19,
   "metadata": {},
   "outputs": [],
   "source": [
    "Sex_mapping = {'male': 0, 'female': 1}\n",
    "df_all['Sex'] = df_all['Sex'].map(Sex_mapping)"
   ]
  },
  {
   "cell_type": "code",
   "execution_count": 20,
   "metadata": {},
   "outputs": [],
   "source": [
    "# Fill in missing Age values\n",
    "df_all['Age'] = df_all.groupby(['Sex', 'Pclass'])['Age'].apply(lambda x: x.fillna(x.median()))"
   ]
  },
  {
   "cell_type": "code",
   "execution_count": 21,
   "metadata": {},
   "outputs": [],
   "source": [
    "df_all['Family_size'] = df_all['SibSp'] + df_all['Parch'] + 1\n",
    "family_map = {1: 'Alone', 2: 'Small', 3: 'Small', 4: 'Small', 5: 'Medium', 6: 'Medium', 7: 'Large', 8: 'Large', 11: 'Large'}\n",
    "df_all['Family_group'] = df_all['Family_size'].map(family_map)"
   ]
  },
  {
   "cell_type": "code",
   "execution_count": 22,
   "metadata": {},
   "outputs": [
    {
     "data": {
      "text/html": [
       "<div>\n",
       "<style scoped>\n",
       "    .dataframe tbody tr th:only-of-type {\n",
       "        vertical-align: middle;\n",
       "    }\n",
       "\n",
       "    .dataframe tbody tr th {\n",
       "        vertical-align: top;\n",
       "    }\n",
       "\n",
       "    .dataframe thead th {\n",
       "        text-align: right;\n",
       "    }\n",
       "</style>\n",
       "<table border=\"1\" class=\"dataframe\">\n",
       "  <thead>\n",
       "    <tr style=\"text-align: right;\">\n",
       "      <th></th>\n",
       "      <th>Age</th>\n",
       "      <th>Cabin</th>\n",
       "      <th>Embarked</th>\n",
       "      <th>Fare</th>\n",
       "      <th>Name</th>\n",
       "      <th>Parch</th>\n",
       "      <th>Pclass</th>\n",
       "      <th>Sex</th>\n",
       "      <th>SibSp</th>\n",
       "      <th>Survived</th>\n",
       "      <th>Ticket</th>\n",
       "      <th>Title</th>\n",
       "      <th>Family_size</th>\n",
       "      <th>Family_group</th>\n",
       "    </tr>\n",
       "  </thead>\n",
       "  <tbody>\n",
       "    <tr>\n",
       "      <th>1043</th>\n",
       "      <td>60.5</td>\n",
       "      <td>NaN</td>\n",
       "      <td>S</td>\n",
       "      <td>NaN</td>\n",
       "      <td>Storey, Mr. Thomas</td>\n",
       "      <td>0</td>\n",
       "      <td>3</td>\n",
       "      <td>0</td>\n",
       "      <td>0</td>\n",
       "      <td>NaN</td>\n",
       "      <td>3701</td>\n",
       "      <td>Mr</td>\n",
       "      <td>1</td>\n",
       "      <td>Alone</td>\n",
       "    </tr>\n",
       "  </tbody>\n",
       "</table>\n",
       "</div>"
      ],
      "text/plain": [
       "       Age Cabin Embarked  Fare                Name  Parch  Pclass  Sex  \\\n",
       "1043  60.5   NaN        S   NaN  Storey, Mr. Thomas      0       3    0   \n",
       "\n",
       "      SibSp  Survived Ticket Title  Family_size Family_group  \n",
       "1043      0       NaN   3701    Mr            1        Alone  "
      ]
     },
     "execution_count": 22,
     "metadata": {},
     "output_type": "execute_result"
    }
   ],
   "source": [
    "# Find in the missing value for Fare\n",
    "df_all[df_all['Fare'].isnull()]"
   ]
  },
  {
   "cell_type": "code",
   "execution_count": 23,
   "metadata": {},
   "outputs": [],
   "source": [
    "# Fill in the missing value for Fare with class 3 median fare\n",
    "med_fare = df_all.groupby(['Pclass', 'Parch', 'SibSp']).Fare.median()[3][0][0]\n",
    "# Filling the missing value in Fare with the median Fare of 3rd class alone passenger\n",
    "df_all['Fare'] = df_all['Fare'].fillna(med_fare)"
   ]
  },
  {
   "cell_type": "code",
   "execution_count": 24,
   "metadata": {},
   "outputs": [],
   "source": [
    "df_all['Fare_per_person'] = df_all['Fare']/df_all['Family_size']\n",
    "# Scalling - No impact on tree related algorithms such as Random Forest and Gradient Boosting. Has positive impact on Logistic Regression.\n",
    "df_all['Fare'] = StandardScaler().fit_transform(df_all['Fare'].values.reshape(-1, 1))\n",
    "df_all['Fare_per_person'] = StandardScaler().fit_transform(df_all['Fare_per_person'].values.reshape(-1, 1))"
   ]
  },
  {
   "cell_type": "code",
   "execution_count": 25,
   "metadata": {},
   "outputs": [
    {
     "data": {
      "text/plain": [
       "PassengerId      0\n",
       "Survived         0\n",
       "Pclass           0\n",
       "Name             0\n",
       "Sex              0\n",
       "Age            177\n",
       "SibSp            0\n",
       "Parch            0\n",
       "Ticket           0\n",
       "Fare             0\n",
       "Cabin          687\n",
       "Embarked         2\n",
       "dtype: int64"
      ]
     },
     "execution_count": 25,
     "metadata": {},
     "output_type": "execute_result"
    }
   ],
   "source": [
    "df_train.isnull().sum()"
   ]
  },
  {
   "cell_type": "markdown",
   "metadata": {},
   "source": [
    "cont_features = ['Age', 'Fare']\n",
    "surv = df_train['Survived'] == 1\n",
    "\n",
    "fig, axs = plt.subplots(ncols=2, nrows=2, figsize=(20, 20))\n",
    "plt.subplots_adjust(right=1.5)\n",
    "\n",
    "for i, feature in enumerate(cont_features):    \n",
    "    \n",
    "    sns.distplot(df_train[~surv][feature], label='Not Survived', hist=True, color='#e74c3c', ax=axs[0][i])\n",
    "    sns.distplot(df_train[surv][feature], label='Survived', hist=True, color='#2ecc71', ax=axs[0][i])"
   ]
  },
  {
   "cell_type": "code",
   "execution_count": 26,
   "metadata": {},
   "outputs": [],
   "source": [
    "df_all['Cabin'] = df_all['Cabin'].apply(lambda s: s[0] if pd.notnull(s) else 'N')"
   ]
  },
  {
   "cell_type": "code",
   "execution_count": 27,
   "metadata": {},
   "outputs": [
    {
     "data": {
      "text/html": [
       "<div>\n",
       "<style scoped>\n",
       "    .dataframe tbody tr th:only-of-type {\n",
       "        vertical-align: middle;\n",
       "    }\n",
       "\n",
       "    .dataframe tbody tr th {\n",
       "        vertical-align: top;\n",
       "    }\n",
       "\n",
       "    .dataframe thead th {\n",
       "        text-align: right;\n",
       "    }\n",
       "</style>\n",
       "<table border=\"1\" class=\"dataframe\">\n",
       "  <thead>\n",
       "    <tr style=\"text-align: right;\">\n",
       "      <th></th>\n",
       "      <th>Age</th>\n",
       "      <th>Cabin</th>\n",
       "      <th>Embarked</th>\n",
       "      <th>Fare</th>\n",
       "      <th>Name</th>\n",
       "      <th>Parch</th>\n",
       "      <th>Pclass</th>\n",
       "      <th>Sex</th>\n",
       "      <th>SibSp</th>\n",
       "      <th>Survived</th>\n",
       "      <th>Ticket</th>\n",
       "      <th>Title</th>\n",
       "      <th>Family_size</th>\n",
       "      <th>Family_group</th>\n",
       "      <th>Fare_per_person</th>\n",
       "    </tr>\n",
       "  </thead>\n",
       "  <tbody>\n",
       "    <tr>\n",
       "      <th>61</th>\n",
       "      <td>38.0</td>\n",
       "      <td>B</td>\n",
       "      <td>NaN</td>\n",
       "      <td>0.903334</td>\n",
       "      <td>Icard, Miss. Amelie</td>\n",
       "      <td>0</td>\n",
       "      <td>1</td>\n",
       "      <td>1</td>\n",
       "      <td>0</td>\n",
       "      <td>1.0</td>\n",
       "      <td>113572</td>\n",
       "      <td>Miss/Mrs/Ms</td>\n",
       "      <td>1</td>\n",
       "      <td>Alone</td>\n",
       "      <td>1.664157</td>\n",
       "    </tr>\n",
       "    <tr>\n",
       "      <th>829</th>\n",
       "      <td>62.0</td>\n",
       "      <td>B</td>\n",
       "      <td>NaN</td>\n",
       "      <td>0.903334</td>\n",
       "      <td>Stone, Mrs. George Nelson (Martha Evelyn)</td>\n",
       "      <td>0</td>\n",
       "      <td>1</td>\n",
       "      <td>1</td>\n",
       "      <td>0</td>\n",
       "      <td>1.0</td>\n",
       "      <td>113572</td>\n",
       "      <td>Miss/Mrs/Ms</td>\n",
       "      <td>1</td>\n",
       "      <td>Alone</td>\n",
       "      <td>1.664157</td>\n",
       "    </tr>\n",
       "  </tbody>\n",
       "</table>\n",
       "</div>"
      ],
      "text/plain": [
       "      Age Cabin Embarked      Fare                                       Name  \\\n",
       "61   38.0     B      NaN  0.903334                        Icard, Miss. Amelie   \n",
       "829  62.0     B      NaN  0.903334  Stone, Mrs. George Nelson (Martha Evelyn)   \n",
       "\n",
       "     Parch  Pclass  Sex  SibSp  Survived  Ticket        Title  Family_size  \\\n",
       "61       0       1    1      0       1.0  113572  Miss/Mrs/Ms            1   \n",
       "829      0       1    1      0       1.0  113572  Miss/Mrs/Ms            1   \n",
       "\n",
       "    Family_group  Fare_per_person  \n",
       "61         Alone         1.664157  \n",
       "829        Alone         1.664157  "
      ]
     },
     "execution_count": 27,
     "metadata": {},
     "output_type": "execute_result"
    }
   ],
   "source": [
    "# Find the missing data in 'Embarded'\n",
    "df_all[df_all['Embarked'].isnull()]"
   ]
  },
  {
   "cell_type": "code",
   "execution_count": 28,
   "metadata": {},
   "outputs": [],
   "source": [
    "# Fill out the missing values in 'Embarked'\n",
    "df_all['Embarked'].fillna('S', inplace = True)"
   ]
  },
  {
   "cell_type": "markdown",
   "metadata": {},
   "source": [
    "One-hot encoding"
   ]
  },
  {
   "cell_type": "code",
   "execution_count": 29,
   "metadata": {},
   "outputs": [
    {
     "name": "stdout",
     "output_type": "stream",
     "text": [
      "one hot columns  Index(['Sex_0', 'Sex_1', 'Pclass_1', 'Pclass_2', 'Pclass_3', 'Title_Countess',\n",
      "       'Title_Dr/Military/Noble/Clergy', 'Title_Master', 'Title_Miss/Mrs/Ms',\n",
      "       'Title_Mr', 'Cabin_A', 'Cabin_B', 'Cabin_C', 'Cabin_D', 'Cabin_E',\n",
      "       'Cabin_F', 'Cabin_G', 'Cabin_N', 'Cabin_T', 'Embarked_C', 'Embarked_Q',\n",
      "       'Embarked_S'],\n",
      "      dtype='object')\n"
     ]
    }
   ],
   "source": [
    "df_all[['Sex','Pclass', 'Title', 'Cabin', 'Embarked']] = df_all[['Sex', 'Pclass', 'Title', 'Cabin', 'Embarked']].astype(str)\n",
    "one_hot = pd.get_dummies(df_all[['Sex', 'Pclass', 'Title', 'Cabin', 'Embarked']])\n",
    "print('one hot columns ', one_hot.columns)"
   ]
  },
  {
   "cell_type": "markdown",
   "metadata": {},
   "source": [
    "Separate train and test set"
   ]
  },
  {
   "cell_type": "code",
   "execution_count": 30,
   "metadata": {},
   "outputs": [
    {
     "name": "stdout",
     "output_type": "stream",
     "text": [
      "Size of training set\"  (891, 15)\n",
      "Columns of training set:  Index(['Age', 'Cabin', 'Embarked', 'Fare', 'Name', 'Parch', 'Pclass', 'Sex',\n",
      "       'SibSp', 'Survived', 'Ticket', 'Title', 'Family_size', 'Family_group',\n",
      "       'Fare_per_person'],\n",
      "      dtype='object')\n",
      "Size of test set:  (418, 15)\n",
      "Columns of test set:  Index(['Age', 'Cabin', 'Embarked', 'Fare', 'Name', 'Parch', 'Pclass', 'Sex',\n",
      "       'SibSp', 'Survived', 'Ticket', 'Title', 'Family_size', 'Family_group',\n",
      "       'Fare_per_person'],\n",
      "      dtype='object')\n",
      "Columns of training set after one-hot:  Index(['Sex_0', 'Sex_1', 'Pclass_1', 'Pclass_2', 'Pclass_3', 'Title_Countess',\n",
      "       'Title_Dr/Military/Noble/Clergy', 'Title_Master', 'Title_Miss/Mrs/Ms',\n",
      "       'Title_Mr', 'Cabin_A', 'Cabin_B', 'Cabin_C', 'Cabin_D', 'Cabin_E',\n",
      "       'Cabin_F', 'Cabin_G', 'Cabin_N', 'Cabin_T', 'Embarked_C', 'Embarked_Q',\n",
      "       'Embarked_S'],\n",
      "      dtype='object')\n",
      "Columns of set set after one-hot:  Index(['Sex_0', 'Sex_1', 'Pclass_1', 'Pclass_2', 'Pclass_3', 'Title_Countess',\n",
      "       'Title_Dr/Military/Noble/Clergy', 'Title_Master', 'Title_Miss/Mrs/Ms',\n",
      "       'Title_Mr', 'Cabin_A', 'Cabin_B', 'Cabin_C', 'Cabin_D', 'Cabin_E',\n",
      "       'Cabin_F', 'Cabin_G', 'Cabin_N', 'Cabin_T', 'Embarked_C', 'Embarked_Q',\n",
      "       'Embarked_S'],\n",
      "      dtype='object')\n"
     ]
    }
   ],
   "source": [
    "df_train, df_test = divide_df(df_all)\n",
    "one_hot_train, one_hot_test = divide_df(one_hot)\n",
    "\n",
    "print('Size of training set\" ', df_train.shape)\n",
    "print('Columns of training set: ', df_train.columns)\n",
    "print('Size of test set: ', df_test.shape)\n",
    "print('Columns of test set: ', df_test.columns)\n",
    "\n",
    "print('Columns of training set after one-hot: ', one_hot_train.columns)\n",
    "print('Columns of set set after one-hot: ', one_hot_test.columns)"
   ]
  },
  {
   "cell_type": "code",
   "execution_count": 31,
   "metadata": {},
   "outputs": [
    {
     "name": "stdout",
     "output_type": "stream",
     "text": [
      "All X_train columns  Index(['Age', 'Fare', 'Family_size', 'Sex_0', 'Sex_1', 'Pclass_1', 'Pclass_2',\n",
      "       'Pclass_3', 'Title_Countess', 'Title_Dr/Military/Noble/Clergy',\n",
      "       'Title_Master', 'Title_Miss/Mrs/Ms', 'Title_Mr', 'Cabin_A', 'Cabin_B',\n",
      "       'Cabin_C', 'Cabin_D', 'Cabin_E', 'Cabin_F', 'Cabin_G', 'Cabin_N',\n",
      "       'Cabin_T', 'Embarked_C', 'Embarked_Q', 'Embarked_S'],\n",
      "      dtype='object')\n",
      "Age                               0\n",
      "Fare                              0\n",
      "Family_size                       0\n",
      "Sex_0                             0\n",
      "Sex_1                             0\n",
      "Pclass_1                          0\n",
      "Pclass_2                          0\n",
      "Pclass_3                          0\n",
      "Title_Countess                    0\n",
      "Title_Dr/Military/Noble/Clergy    0\n",
      "Title_Master                      0\n",
      "Title_Miss/Mrs/Ms                 0\n",
      "Title_Mr                          0\n",
      "Cabin_A                           0\n",
      "Cabin_B                           0\n",
      "Cabin_C                           0\n",
      "Cabin_D                           0\n",
      "Cabin_E                           0\n",
      "Cabin_F                           0\n",
      "Cabin_G                           0\n",
      "Cabin_N                           0\n",
      "Cabin_T                           0\n",
      "Embarked_C                        0\n",
      "Embarked_Q                        0\n",
      "Embarked_S                        0\n",
      "dtype: int64\n",
      "(891,)\n",
      "X_train shape= (891, 25)\n",
      "0      0.0\n",
      "1      1.0\n",
      "2      1.0\n",
      "3      1.0\n",
      "4      0.0\n",
      "5      0.0\n",
      "6      0.0\n",
      "7      0.0\n",
      "8      1.0\n",
      "9      1.0\n",
      "10     1.0\n",
      "11     1.0\n",
      "12     0.0\n",
      "13     0.0\n",
      "14     0.0\n",
      "15     1.0\n",
      "16     0.0\n",
      "17     1.0\n",
      "18     0.0\n",
      "19     1.0\n",
      "20     0.0\n",
      "21     1.0\n",
      "22     1.0\n",
      "23     1.0\n",
      "24     0.0\n",
      "25     1.0\n",
      "26     0.0\n",
      "27     0.0\n",
      "28     1.0\n",
      "29     0.0\n",
      "      ... \n",
      "861    0.0\n",
      "862    1.0\n",
      "863    0.0\n",
      "864    0.0\n",
      "865    1.0\n",
      "866    1.0\n",
      "867    0.0\n",
      "868    0.0\n",
      "869    1.0\n",
      "870    0.0\n",
      "871    1.0\n",
      "872    0.0\n",
      "873    0.0\n",
      "874    1.0\n",
      "875    1.0\n",
      "876    0.0\n",
      "877    0.0\n",
      "878    0.0\n",
      "879    1.0\n",
      "880    1.0\n",
      "881    0.0\n",
      "882    0.0\n",
      "883    0.0\n",
      "884    0.0\n",
      "885    0.0\n",
      "886    0.0\n",
      "887    1.0\n",
      "888    0.0\n",
      "889    1.0\n",
      "890    0.0\n",
      "Name: Survived, Length: 891, dtype: float64\n",
      "Index(['Age', 'Fare', 'Family_size', 'Sex_0', 'Sex_1', 'Pclass_1', 'Pclass_2',\n",
      "       'Pclass_3', 'Title_Countess', 'Title_Dr/Military/Noble/Clergy',\n",
      "       'Title_Master', 'Title_Miss/Mrs/Ms', 'Title_Mr', 'Cabin_A', 'Cabin_B',\n",
      "       'Cabin_C', 'Cabin_D', 'Cabin_E', 'Cabin_F', 'Cabin_G', 'Cabin_N',\n",
      "       'Cabin_T', 'Embarked_C', 'Embarked_Q', 'Embarked_S'],\n",
      "      dtype='object')\n",
      "X_test shape= (418, 25)\n",
      "Index(['Age', 'Fare', 'Family_size', 'Sex_0', 'Sex_1', 'Pclass_1', 'Pclass_2',\n",
      "       'Pclass_3', 'Title_Countess', 'Title_Dr/Military/Noble/Clergy',\n",
      "       'Title_Master', 'Title_Miss/Mrs/Ms', 'Title_Mr', 'Cabin_A', 'Cabin_B',\n",
      "       'Cabin_C', 'Cabin_D', 'Cabin_E', 'Cabin_F', 'Cabin_G', 'Cabin_N',\n",
      "       'Cabin_T', 'Embarked_C', 'Embarked_Q', 'Embarked_S'],\n",
      "      dtype='object')\n",
      "<class 'pandas.core.frame.DataFrame'>\n"
     ]
    }
   ],
   "source": [
    "from sklearn.model_selection import train_test_split\n",
    "from sklearn.model_selection import KFold\n",
    "from sklearn.model_selection import cross_val_score\n",
    "\n",
    "survived = df_train['Survived']\n",
    "\n",
    "# Apply Wrap method - Forward selection\n",
    "# Better performance for Fare instead of Fare_per_person on decision tree related algorithms\n",
    "X_train = df_train[['Age', 'Fare', 'Family_size']]\n",
    "X_test = df_test[['Age', 'Fare', 'Family_size']]\n",
    "X_train = pd.concat([X_train, one_hot_train], axis = 1)\n",
    "X_test = pd.concat([X_test, one_hot_test], axis = 1)\n",
    "\n",
    "print('All X_train columns ', X_train.columns)\n",
    "print(X_train.isnull().sum())\n",
    "print(survived.shape)\n",
    "print('X_train shape=', X_train.shape)\n",
    "\n",
    "\n",
    "print(survived)\n",
    "print(X_train.columns)\n",
    "print('X_test shape=',X_test.shape)\n",
    "print(X_test.columns)\n",
    "print(type(X_train))"
   ]
  },
  {
   "cell_type": "markdown",
   "metadata": {},
   "source": []
  },
  {
   "cell_type": "code",
   "execution_count": 32,
   "metadata": {},
   "outputs": [
    {
     "name": "stdout",
     "output_type": "stream",
     "text": [
      "(891, 25)\n",
      "<class 'pandas.core.frame.DataFrame'>\n",
      "(891, 25)\n",
      "        Age      Fare  Family_size     Sex_0     Sex_1  Pclass_1  Pclass_2  \\\n",
      "0 -0.539232 -0.502445     0.059160  0.737695 -0.737695 -0.565685 -0.510152   \n",
      "1  0.661032  0.786845     0.059160 -1.355574  1.355574  1.767767 -0.510152   \n",
      "2 -0.239166 -0.488854    -0.560975 -1.355574  1.355574 -0.565685 -0.510152   \n",
      "3  0.435982  0.420730     0.059160 -1.355574  1.355574  1.767767 -0.510152   \n",
      "4  0.435982 -0.486337    -0.560975  0.737695 -0.737695 -0.565685 -0.510152   \n",
      "\n",
      "   Pclass_3  Title_Countess  Title_Dr/Military/Noble/Clergy  ...   Cabin_C  \\\n",
      "0  0.902587        -0.03352                       -0.155364  ... -0.266296   \n",
      "1 -1.107926        -0.03352                       -0.155364  ...  3.755222   \n",
      "2  0.902587        -0.03352                       -0.155364  ... -0.266296   \n",
      "3 -1.107926        -0.03352                       -0.155364  ...  3.755222   \n",
      "4  0.902587        -0.03352                       -0.155364  ... -0.266296   \n",
      "\n",
      "    Cabin_D   Cabin_E   Cabin_F   Cabin_G   Cabin_N  Cabin_T  Embarked_C  \\\n",
      "0 -0.196116 -0.193009 -0.121681 -0.067153  0.544925 -0.03352   -0.482043   \n",
      "1 -0.196116 -0.193009 -0.121681 -0.067153 -1.835115 -0.03352    2.074505   \n",
      "2 -0.196116 -0.193009 -0.121681 -0.067153  0.544925 -0.03352   -0.482043   \n",
      "3 -0.196116 -0.193009 -0.121681 -0.067153 -1.835115 -0.03352   -0.482043   \n",
      "4 -0.196116 -0.193009 -0.121681 -0.067153  0.544925 -0.03352   -0.482043   \n",
      "\n",
      "   Embarked_Q  Embarked_S  \n",
      "0   -0.307562    0.615838  \n",
      "1   -0.307562   -1.623803  \n",
      "2   -0.307562    0.615838  \n",
      "3   -0.307562    0.615838  \n",
      "4   -0.307562    0.615838  \n",
      "\n",
      "[5 rows x 25 columns]\n",
      "<class 'pandas.core.frame.DataFrame'>\n",
      "(418, 25)\n",
      "        Age      Fare  Family_size     Sex_0     Sex_1  Pclass_1  Pclass_2  \\\n",
      "0  0.392215 -0.497069    -0.553443  0.755929 -0.755929 -0.586559 -0.534933   \n",
      "1  1.356830 -0.511932     0.105643 -1.322876  1.322876 -0.586559 -0.534933   \n",
      "2  2.514368 -0.463760    -0.553443  0.755929 -0.755929 -0.586559  1.869391   \n",
      "3 -0.186554 -0.482132    -0.553443  0.755929 -0.755929 -0.586559 -0.534933   \n",
      "4 -0.572400 -0.417157     0.764728 -1.322876  1.322876 -0.586559 -0.534933   \n",
      "\n",
      "   Pclass_3  Title_Countess  Title_Dr/Military/Noble/Clergy  ...   Cabin_C  \\\n",
      "0  0.957826             0.0                        -0.11003  ... -0.302298   \n",
      "1  0.957826             0.0                        -0.11003  ... -0.302298   \n",
      "2 -1.044031             0.0                        -0.11003  ... -0.302298   \n",
      "3  0.957826             0.0                        -0.11003  ... -0.302298   \n",
      "4  0.957826             0.0                        -0.11003  ... -0.302298   \n",
      "\n",
      "    Cabin_D  Cabin_E   Cabin_F  Cabin_G  Cabin_N  Cabin_T  Embarked_C  \\\n",
      "0 -0.179161 -0.14834 -0.139686 -0.04897  0.52753      0.0   -0.568142   \n",
      "1 -0.179161 -0.14834 -0.139686 -0.04897  0.52753      0.0   -0.568142   \n",
      "2 -0.179161 -0.14834 -0.139686 -0.04897  0.52753      0.0   -0.568142   \n",
      "3 -0.179161 -0.14834 -0.139686 -0.04897  0.52753      0.0   -0.568142   \n",
      "4 -0.179161 -0.14834 -0.139686 -0.04897  0.52753      0.0   -0.568142   \n",
      "\n",
      "   Embarked_Q  Embarked_S  \n",
      "0    2.843757   -1.350676  \n",
      "1   -0.351647    0.740370  \n",
      "2    2.843757   -1.350676  \n",
      "3   -0.351647    0.740370  \n",
      "4   -0.351647    0.740370  \n",
      "\n",
      "[5 rows x 25 columns]\n",
      "(891, 17)\n"
     ]
    }
   ],
   "source": [
    "# add standard scaler\n",
    "print(X_train.shape)\n",
    "col = X_train.columns\n",
    "scaler = StandardScaler()\n",
    "X_train = pd.DataFrame(scaler.fit_transform(X_train), columns = col)\n",
    "print(type(X_train))\n",
    "print(X_train.shape)\n",
    "print(X_train.head())\n",
    "\n",
    "col = X_test.columns\n",
    "scaler = StandardScaler()\n",
    "X_test = pd.DataFrame(scaler.fit_transform(X_test), columns = col)\n",
    "\n",
    "print(type(X_test))\n",
    "print(X_test.shape)\n",
    "print(X_test.head())\n",
    "\n",
    "from sklearn.decomposition import PCA\n",
    "X_train\n",
    "pca = PCA(n_components = 17, whiten=True, random_state=0).fit(X_train)\n",
    "X_train_pca = pca.transform(X_train)\n",
    "X_test_pca = pca.transform(X_test)\n",
    "print(X_train_pca.shape)"
   ]
  },
  {
   "cell_type": "code",
   "execution_count": 33,
   "metadata": {},
   "outputs": [],
   "source": [
    "from sklearn.preprocessing import PolynomialFeatures\n",
    "poly = PolynomialFeatures(degree=5, include_bias=False)\n",
    "poly.fit(X_train)\n",
    "X_poly = poly.transform(X_train)"
   ]
  },
  {
   "cell_type": "code",
   "execution_count": 34,
   "metadata": {
    "scrolled": true
   },
   "outputs": [
    {
     "name": "stdout",
     "output_type": "stream",
     "text": [
      "Logistic Regression score on training set  0.9181380417335474\n",
      "Logistic Regression score on CV  0.7761194029850746\n"
     ]
    }
   ],
   "source": [
    "from sklearn.linear_model import LogisticRegression\n",
    "\n",
    "X_train_t, X_test_t, y_train_t, y_test_t = train_test_split(X_poly, survived, test_size = 0.3, random_state = 42)\n",
    "\n",
    "clf = LogisticRegression(C = 0.05, solver = 'lbfgs', max_iter = 5000)\n",
    "LogReg = clf.fit(X_train_t, y_train_t)\n",
    "score = LogReg.score(X_train_t, y_train_t)\n",
    "print('Logistic Regression score on training set ', score)\n",
    "\n",
    "score = LogReg.score(X_test_t, y_test_t)\n",
    "print('Logistic Regression score on CV ', score)"
   ]
  },
  {
   "cell_type": "code",
   "execution_count": 35,
   "metadata": {},
   "outputs": [
    {
     "name": "stdout",
     "output_type": "stream",
     "text": [
      "Logistic Regression k-fold cross validation scores:\n",
      " [0.80446927 0.80337079 0.82022472 0.79213483 0.74719101]\n",
      "Logistic Regression k-fold average score:  79.35\n"
     ]
    }
   ],
   "source": [
    "k_fold = KFold(n_splits=5, shuffle=True, random_state=0)\n",
    "score = cross_val_score(clf, X_poly, survived, cv=k_fold)\n",
    "print(\"Logistic Regression k-fold cross validation scores:\\n\", score)\n",
    "print('Logistic Regression k-fold average score: ', round(np.mean(score)*100, 2))"
   ]
  },
  {
   "cell_type": "code",
   "execution_count": 36,
   "metadata": {},
   "outputs": [],
   "source": [
    "# Algorithms which do not need polynomial features\n",
    "X_train_t, X_test_t, y_train_t, y_test_t = train_test_split(X_train, survived, test_size = 0.3, random_state = 42)"
   ]
  },
  {
   "cell_type": "code",
   "execution_count": 37,
   "metadata": {
    "scrolled": true
   },
   "outputs": [
    {
     "name": "stderr",
     "output_type": "stream",
     "text": [
      "[Parallel(n_jobs=-1)]: Using backend ThreadingBackend with 8 concurrent workers.\n",
      "[Parallel(n_jobs=-1)]: Done  34 tasks      | elapsed:    0.1s\n",
      "[Parallel(n_jobs=-1)]: Done 184 tasks      | elapsed:    0.2s\n",
      "[Parallel(n_jobs=-1)]: Done 434 tasks      | elapsed:    0.3s\n",
      "[Parallel(n_jobs=-1)]: Done 784 tasks      | elapsed:    0.4s\n",
      "[Parallel(n_jobs=-1)]: Done 800 out of 800 | elapsed:    0.4s finished\n",
      "[Parallel(n_jobs=8)]: Using backend ThreadingBackend with 8 concurrent workers.\n",
      "[Parallel(n_jobs=8)]: Done  34 tasks      | elapsed:    0.0s\n",
      "[Parallel(n_jobs=8)]: Done 184 tasks      | elapsed:    0.0s\n",
      "[Parallel(n_jobs=8)]: Done 434 tasks      | elapsed:    0.0s\n",
      "[Parallel(n_jobs=8)]: Done 784 tasks      | elapsed:    0.0s\n",
      "[Parallel(n_jobs=8)]: Done 800 out of 800 | elapsed:    0.0s finished\n"
     ]
    },
    {
     "name": "stdout",
     "output_type": "stream",
     "text": [
      "Random Forest score on training set  0.8234349919743178\n"
     ]
    },
    {
     "name": "stderr",
     "output_type": "stream",
     "text": [
      "[Parallel(n_jobs=8)]: Using backend ThreadingBackend with 8 concurrent workers.\n",
      "[Parallel(n_jobs=8)]: Done  34 tasks      | elapsed:    0.0s\n",
      "[Parallel(n_jobs=8)]: Done 184 tasks      | elapsed:    0.0s\n",
      "[Parallel(n_jobs=8)]: Done 434 tasks      | elapsed:    0.0s\n",
      "[Parallel(n_jobs=8)]: Done 784 tasks      | elapsed:    0.0s\n",
      "[Parallel(n_jobs=8)]: Done 800 out of 800 | elapsed:    0.0s finished\n"
     ]
    },
    {
     "name": "stdout",
     "output_type": "stream",
     "text": [
      "Random Forest score on test set  0.8246268656716418\n"
     ]
    }
   ],
   "source": [
    "from sklearn.ensemble import RandomForestClassifier\n",
    "clf = RandomForestClassifier(criterion='gini', \n",
    "                                n_estimators=800,\n",
    "                                           max_depth=3,\n",
    "                                           min_samples_split=6,\n",
    "                                           min_samples_leaf=6,\n",
    "                                           max_features= 'auto',\n",
    "                                           oob_score=True,\n",
    "                                           random_state=42,\n",
    "                                           n_jobs=-1,\n",
    "                                           verbose=1)\n",
    "\n",
    "rf = clf.fit(X_train_t, y_train_t)\n",
    "score = rf.score(X_train_t, y_train_t)\n",
    "print('Random Forest score on training set ', score)\n",
    "score = rf.score(X_test_t, y_test_t)\n",
    "print('Random Forest score on test set ', score)"
   ]
  },
  {
   "cell_type": "code",
   "execution_count": 38,
   "metadata": {},
   "outputs": [
    {
     "name": "stderr",
     "output_type": "stream",
     "text": [
      "[Parallel(n_jobs=-1)]: Using backend LokyBackend with 8 concurrent workers.\n",
      "[Parallel(n_jobs=-1)]: Done  34 tasks      | elapsed:   20.0s\n",
      "[Parallel(n_jobs=-1)]: Done 800 out of 800 | elapsed:   20.3s finished\n",
      "[Parallel(n_jobs=8)]: Using backend ThreadingBackend with 8 concurrent workers.\n",
      "[Parallel(n_jobs=8)]: Done  34 tasks      | elapsed:    0.0s\n",
      "[Parallel(n_jobs=8)]: Done 184 tasks      | elapsed:    0.0s\n",
      "[Parallel(n_jobs=8)]: Done 434 tasks      | elapsed:    0.0s\n",
      "[Parallel(n_jobs=8)]: Done 784 tasks      | elapsed:    0.0s\n",
      "[Parallel(n_jobs=8)]: Done 800 out of 800 | elapsed:    0.0s finished\n",
      "[Parallel(n_jobs=-1)]: Using backend LokyBackend with 8 concurrent workers.\n",
      "[Parallel(n_jobs=-1)]: Done 800 out of 800 | elapsed:    0.1s finished\n",
      "[Parallel(n_jobs=8)]: Using backend ThreadingBackend with 8 concurrent workers.\n",
      "[Parallel(n_jobs=8)]: Done  34 tasks      | elapsed:    0.0s\n",
      "[Parallel(n_jobs=8)]: Done 184 tasks      | elapsed:    0.0s\n",
      "[Parallel(n_jobs=8)]: Done 434 tasks      | elapsed:    0.0s\n",
      "[Parallel(n_jobs=8)]: Done 784 tasks      | elapsed:    0.0s\n",
      "[Parallel(n_jobs=8)]: Done 800 out of 800 | elapsed:    0.0s finished\n",
      "[Parallel(n_jobs=-1)]: Using backend LokyBackend with 8 concurrent workers.\n",
      "[Parallel(n_jobs=-1)]: Done 800 out of 800 | elapsed:    0.1s finished\n",
      "[Parallel(n_jobs=8)]: Using backend ThreadingBackend with 8 concurrent workers.\n",
      "[Parallel(n_jobs=8)]: Done  34 tasks      | elapsed:    0.0s\n",
      "[Parallel(n_jobs=8)]: Done 184 tasks      | elapsed:    0.0s\n",
      "[Parallel(n_jobs=8)]: Done 434 tasks      | elapsed:    0.0s\n",
      "[Parallel(n_jobs=8)]: Done 784 tasks      | elapsed:    0.0s\n",
      "[Parallel(n_jobs=8)]: Done 800 out of 800 | elapsed:    0.0s finished\n",
      "[Parallel(n_jobs=-1)]: Using backend LokyBackend with 8 concurrent workers.\n",
      "[Parallel(n_jobs=-1)]: Done 800 out of 800 | elapsed:    0.1s finished\n",
      "[Parallel(n_jobs=8)]: Using backend ThreadingBackend with 8 concurrent workers.\n",
      "[Parallel(n_jobs=8)]: Done  34 tasks      | elapsed:    0.0s\n",
      "[Parallel(n_jobs=8)]: Done 184 tasks      | elapsed:    0.0s\n",
      "[Parallel(n_jobs=8)]: Done 434 tasks      | elapsed:    0.0s\n",
      "[Parallel(n_jobs=8)]: Done 784 tasks      | elapsed:    0.0s\n",
      "[Parallel(n_jobs=8)]: Done 800 out of 800 | elapsed:    0.0s finished\n",
      "[Parallel(n_jobs=-1)]: Using backend LokyBackend with 8 concurrent workers.\n",
      "[Parallel(n_jobs=-1)]: Done 800 out of 800 | elapsed:    0.1s finished\n"
     ]
    },
    {
     "name": "stdout",
     "output_type": "stream",
     "text": [
      "Random Forest k-fold cross validation scores:\n",
      " [0.82681564 0.79213483 0.80337079 0.8258427  0.83707865]\n",
      "Random Forest k-fold average score:  81.7\n"
     ]
    },
    {
     "name": "stderr",
     "output_type": "stream",
     "text": [
      "[Parallel(n_jobs=8)]: Using backend ThreadingBackend with 8 concurrent workers.\n",
      "[Parallel(n_jobs=8)]: Done  34 tasks      | elapsed:    0.0s\n",
      "[Parallel(n_jobs=8)]: Done 184 tasks      | elapsed:    0.0s\n",
      "[Parallel(n_jobs=8)]: Done 434 tasks      | elapsed:    0.0s\n",
      "[Parallel(n_jobs=8)]: Done 784 tasks      | elapsed:    0.0s\n",
      "[Parallel(n_jobs=8)]: Done 800 out of 800 | elapsed:    0.0s finished\n"
     ]
    }
   ],
   "source": [
    "k_fold = KFold(n_splits=5, shuffle=True, random_state=0)\n",
    "score = cross_val_score(clf, X_train, survived, cv=k_fold)\n",
    "print(\"Random Forest k-fold cross validation scores:\\n\", score)\n",
    "print('Random Forest k-fold average score: ', round(np.mean(score)*100, 2))"
   ]
  },
  {
   "cell_type": "code",
   "execution_count": 39,
   "metadata": {},
   "outputs": [
    {
     "name": "stdout",
     "output_type": "stream",
     "text": [
      "Gradient Boost score on training set  0.8346709470304976\n",
      "Gradient Boost score on CV  0.835820895522388\n"
     ]
    }
   ],
   "source": [
    "from sklearn.ensemble import GradientBoostingClassifier\n",
    "clf = GradientBoostingClassifier(random_state = 42, max_depth = 1, learning_rate = 0.15, max_features = 14, min_samples_leaf = 12)\n",
    "\n",
    "gb = clf.fit(X_train_t, y_train_t)\n",
    "score = gb.score(X_train_t, y_train_t)\n",
    "\n",
    "print('Gradient Boost score on training set ', score)\n",
    "score = gb.score(X_test_t, y_test_t)\n",
    "print('Gradient Boost score of test set on train.csv', score)"
   ]
  },
  {
   "cell_type": "code",
   "execution_count": 40,
   "metadata": {},
   "outputs": [
    {
     "name": "stdout",
     "output_type": "stream",
     "text": [
      "Gradient Boost cross validation scores:\n",
      " [0.81005587 0.81460674 0.83146067 0.8258427  0.84831461]\n",
      "Gradient Boost k-fold average score:  82.61\n"
     ]
    }
   ],
   "source": [
    "k_fold = KFold(n_splits=5, shuffle=True, random_state=0)\n",
    "score = cross_val_score(clf, X_train, survived, cv=k_fold)\n",
    "print(\"Gradient Boost k-fold scores on train.csv:\\n\", score)\n",
    "print('Gradient Boost k-fold average score on train.csv: ', round(np.mean(score)*100, 2))"
   ]
  },
  {
   "cell_type": "code",
   "execution_count": 41,
   "metadata": {},
   "outputs": [
    {
     "name": "stdout",
     "output_type": "stream",
     "text": [
      "NN MLP score on training set  0.8651685393258427\n",
      "NN MLP score on CV  0.7985074626865671\n"
     ]
    }
   ],
   "source": [
    "from sklearn.neural_network import MLPClassifier\n",
    "clf = MLPClassifier(solver='lbfgs', random_state = 42, hidden_layer_sizes=[2,1], alpha = 1, max_iter=1000)\n",
    "nn = clf.fit(X_train_t, y_train_t)\n",
    "score = nn.score(X_train_t, y_train_t)\n",
    "print('NN MLP score on training set ', score)\n",
    "score = nn.score(X_test_t, y_test_t)\n",
    "print('NN MLP score of test set on train.csv ', score)"
   ]
  },
  {
   "cell_type": "code",
   "execution_count": 42,
   "metadata": {},
   "outputs": [
    {
     "name": "stdout",
     "output_type": "stream",
     "text": [
      "NN MLP cross validation scores:\n",
      " [0.81005587 0.8258427  0.8258427  0.83146067 0.81460674]\n",
      "NN MLP k-fold average score:  82.16\n"
     ]
    }
   ],
   "source": [
    "k_fold = KFold(n_splits=5, shuffle=True, random_state=0)\n",
    "score=cross_val_score(clf, X_train, survived, cv=k_fold)\n",
    "print(\"NN MLP k-fold scores:\\n\", score)\n",
    "print('NN MLP k-fold average score on train.csv: ', round(np.mean(score)*100, 2))"
   ]
  },
  {
   "cell_type": "code",
   "execution_count": 43,
   "metadata": {},
   "outputs": [
    {
     "name": "stdout",
     "output_type": "stream",
     "text": [
      "NN MLP cross validation scores:\n",
      " [0.81564246 0.8258427  0.83146067 0.83146067 0.54494382]\n",
      "NN MLP k-fold average score:  76.99\n"
     ]
    }
   ],
   "source": [
    "# PCA score\n",
    "score=cross_val_score(clf, X_train_pca, survived, cv=k_fold)\n",
    "print(\"NN MLP k-fold scores:\\n\", score)\n",
    "print('NN MLP k-fold average score on train.csv: ', round(np.mean(score)*100, 2))"
   ]
  },
  {
   "cell_type": "markdown",
   "metadata": {},
   "source": [
    "Apply Neural Network model to test.csv for prediction and Kaggle submission."
   ]
  },
  {
   "cell_type": "code",
   "execution_count": 44,
   "metadata": {},
   "outputs": [],
   "source": [
    "pred = gb.predict(X_test)\n",
    "np.savetxt('code submission.csv', pred)"
   ]
  }
 ],
 "metadata": {
  "kernelspec": {
   "display_name": "Python 3",
   "language": "python",
   "name": "python3"
  },
  "language_info": {
   "codemirror_mode": {
    "name": "ipython",
    "version": 3
   },
   "file_extension": ".py",
   "mimetype": "text/x-python",
   "name": "python",
   "nbconvert_exporter": "python",
   "pygments_lexer": "ipython3",
   "version": "3.7.3"
  }
 },
 "nbformat": 4,
 "nbformat_minor": 2
}
